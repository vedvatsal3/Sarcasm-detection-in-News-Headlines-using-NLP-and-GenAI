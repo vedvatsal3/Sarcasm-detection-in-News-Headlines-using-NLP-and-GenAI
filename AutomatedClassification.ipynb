{
  "nbformat": 4,
  "nbformat_minor": 0,
  "metadata": {
    "colab": {
      "provenance": []
    },
    "kernelspec": {
      "name": "python3",
      "display_name": "Python 3"
    },
    "language_info": {
      "name": "python"
    }
  },
  "cells": [
    {
      "cell_type": "code",
      "execution_count": null,
      "metadata": {
        "colab": {
          "base_uri": "https://localhost:8080/"
        },
        "id": "U4m2NVx5JRr3",
        "outputId": "63226868-d5b3-48ed-e20f-2702a6d5e803"
      },
      "outputs": [
        {
          "output_type": "stream",
          "name": "stdout",
          "text": [
            "Collecting openai\n",
            "  Downloading openai-0.27.8-py3-none-any.whl (73 kB)\n",
            "\u001b[?25l     \u001b[90m━━━━━━━━━━━━━━━━━━━━━━━━━━━━━━━━━━━━━━━━\u001b[0m \u001b[32m0.0/73.6 kB\u001b[0m \u001b[31m?\u001b[0m eta \u001b[36m-:--:--\u001b[0m\r\u001b[2K     \u001b[90m━━━━━━━━━━━━━━━━━━━━━━━━━━━━━━━━━━━━━━━━\u001b[0m \u001b[32m73.6/73.6 kB\u001b[0m \u001b[31m3.1 MB/s\u001b[0m eta \u001b[36m0:00:00\u001b[0m\n",
            "\u001b[?25hRequirement already satisfied: requests>=2.20 in /usr/local/lib/python3.10/dist-packages (from openai) (2.27.1)\n",
            "Requirement already satisfied: tqdm in /usr/local/lib/python3.10/dist-packages (from openai) (4.65.0)\n",
            "Requirement already satisfied: aiohttp in /usr/local/lib/python3.10/dist-packages (from openai) (3.8.4)\n",
            "Requirement already satisfied: urllib3<1.27,>=1.21.1 in /usr/local/lib/python3.10/dist-packages (from requests>=2.20->openai) (1.26.16)\n",
            "Requirement already satisfied: certifi>=2017.4.17 in /usr/local/lib/python3.10/dist-packages (from requests>=2.20->openai) (2023.5.7)\n",
            "Requirement already satisfied: charset-normalizer~=2.0.0 in /usr/local/lib/python3.10/dist-packages (from requests>=2.20->openai) (2.0.12)\n",
            "Requirement already satisfied: idna<4,>=2.5 in /usr/local/lib/python3.10/dist-packages (from requests>=2.20->openai) (3.4)\n",
            "Requirement already satisfied: attrs>=17.3.0 in /usr/local/lib/python3.10/dist-packages (from aiohttp->openai) (23.1.0)\n",
            "Requirement already satisfied: multidict<7.0,>=4.5 in /usr/local/lib/python3.10/dist-packages (from aiohttp->openai) (6.0.4)\n",
            "Requirement already satisfied: async-timeout<5.0,>=4.0.0a3 in /usr/local/lib/python3.10/dist-packages (from aiohttp->openai) (4.0.2)\n",
            "Requirement already satisfied: yarl<2.0,>=1.0 in /usr/local/lib/python3.10/dist-packages (from aiohttp->openai) (1.9.2)\n",
            "Requirement already satisfied: frozenlist>=1.1.1 in /usr/local/lib/python3.10/dist-packages (from aiohttp->openai) (1.3.3)\n",
            "Requirement already satisfied: aiosignal>=1.1.2 in /usr/local/lib/python3.10/dist-packages (from aiohttp->openai) (1.3.1)\n",
            "Installing collected packages: openai\n",
            "Successfully installed openai-0.27.8\n"
          ]
        }
      ],
      "source": [
        "!pip install openai"
      ]
    },
    {
      "cell_type": "code",
      "source": [],
      "metadata": {
        "id": "SHPm4fUwwCLP"
      },
      "execution_count": null,
      "outputs": []
    },
    {
      "cell_type": "code",
      "source": [
        "import pandas as pd\n",
        "\n",
        "# Assuming your dataset is stored in a pandas DataFrame called 'df'\n",
        "df = pd.read_csv('Sarcasm__Dataset.csv')\n",
        "\n",
        "import pandas as pd\n",
        "\n",
        "# Assuming your dataset is stored in a pandas DataFrame called 'df'\n",
        "# Create a new column called 'sarcasm_only' and assign empty strings initially\n",
        "df['sarcasm_only'] = None\n",
        "\n",
        "# Iterate through each row in the DataFrame\n",
        "for index, row in df.iterrows():\n",
        "    # Check if the 'label' value is 1 (indicating sarcasm)\n",
        "    if row['is_sarcastic'] == 1:\n",
        "        # Assign the value from the 'headline' column to the 'sarcasm_only' column\n",
        "        df.at[index, 'sarcasm_only'] = row['headline']\n",
        "\n",
        "# Print the resulting DataFrame (excluding rows with label=0)\n",
        "df_filtered = df[df['is_sarcastic'] == 1][['headline']]\n",
        "print(df_filtered)"
      ],
      "metadata": {
        "colab": {
          "base_uri": "https://localhost:8080/"
        },
        "id": "3V3KxYmPvfVI",
        "outputId": "25cad659-ef79-4fe4-ac9d-168e7d0d0bbe"
      },
      "execution_count": null,
      "outputs": [
        {
          "output_type": "stream",
          "name": "stdout",
          "text": [
            "                                                headline\n",
            "2      mom starting to fear son's web series closest ...\n",
            "3      boehner just wants wife to listen, not come up...\n",
            "8      top snake handler leaves sinking huckabee camp...\n",
            "15     nuclear bomb detonates during rehearsal for 's...\n",
            "16     cosby lawyer asks why accusers didn't come for...\n",
            "...                                                  ...\n",
            "26693  new bailiff tired of hearing how old bailiff d...\n",
            "26694  breaking: 'the onion' in kill range of boston ...\n",
            "26695  seaworld crowd applauds for dolphin playfully ...\n",
            "26702  pentagon to withhold budget figures out of res...\n",
            "26703  pope francis wearing sweater vestments he got ...\n",
            "\n",
            "[11724 rows x 1 columns]\n"
          ]
        }
      ]
    },
    {
      "cell_type": "code",
      "source": [
        "\n"
      ],
      "metadata": {
        "id": "epDw8Zb6BOLE"
      },
      "execution_count": null,
      "outputs": []
    },
    {
      "cell_type": "code",
      "source": [
        "import openai\n",
        "import pandas as pd\n",
        "\n",
        "# Replace with your OpenAI API key\n",
        "api_key = \"sk-\"\n",
        "\n",
        "def classify_sarcasm(text):\n",
        "    prompt = \"classify the texts into  Raging sarcasm, Self deprecating sarcasm, Brooding sarcasm, Polite sarcasm, Obnoxious sarcasm, Deadpan sarcasm,Maniac sarcasm or no type of sarcasm.\"\n",
        "    classification = None\n",
        "\n",
        "    response = openai.Completion.create(\n",
        "        engine=\"text-davinci-003\",\n",
        "        prompt=f\"{prompt}\\nText: {text}\\nType:\",\n",
        "        max_tokens=1,\n",
        "        n=1,\n",
        "        stop=None,\n",
        "        temperature=0,\n",
        "        api_key=api_key\n",
        "    )\n",
        "\n",
        "    if response.choices and response.choices[0].text.strip():\n",
        "        classification = response.choices[0].text.strip()\n",
        "\n",
        "    return classification\n",
        "\n",
        "# Load the dataset\n",
        "df = pd.read_csv('Sarcasm__Dataset.csv', encoding='latin-1')\n",
        "\n",
        "# Create a new column called 'sarcasm_only' and assign empty strings initially\n",
        "df['sarcasm_only'] = None\n",
        "\n",
        "# Iterate through each row in the DataFrame from index 75 to 155\n",
        "for index, row in df.iloc[26571:26708].iterrows():\n",
        "    # Check if the 'is_sarcastic' value is 1 (indicating sarcasm)\n",
        "    if row['is_sarcastic'] == 1:\n",
        "        # Assign the value from the 'headline' column to the 'sarcasm_only' column\n",
        "        df.at[index, 'sarcasm_only'] = row['headline']\n",
        "        sarcasm_type = classify_sarcasm(row['headline'])\n",
        "        print(f\"Number: {index}\")\n",
        "        print(f\"Text: '{row['headline']}'\")\n",
        "        print(f\"Sarcasm Type: {sarcasm_type}\\n\")\n",
        "\n",
        "# Filter the DataFrame to include only the rows with sarcasm\n",
        "df_filtered = df[df['is_sarcastic'] == 1][['headline', 'sarcasm_only']]\n",
        "\n",
        "# Print the resulting DataFrame\n",
        "print(df_filtered)\n"
      ],
      "metadata": {
        "id": "A0JC16FMw5JM",
        "colab": {
          "base_uri": "https://localhost:8080/"
        },
        "outputId": "ba85615b-d1d0-4047-a440-b19f9ae6c813"
      },
      "execution_count": null,
      "outputs": [
        {
          "output_type": "stream",
          "name": "stdout",
          "text": [
            "Number: 26571\n",
            "Text: 'clinton pours malt liquor on ground for dead homies'\n",
            "Sarcasm Type: No\n",
            "\n",
            "Number: 26572\n",
            "Text: 'john kerry sits in shadows of kiev cafÃ© awaiting woman known only as dasha'\n",
            "Sarcasm Type: No\n",
            "\n",
            "Number: 26574\n",
            "Text: 'super 8 offering writers residency for anyone working on suicide note'\n",
            "Sarcasm Type: No\n",
            "\n",
            "Number: 26575\n",
            "Text: 'cambridge analytica offers 75% off all facebook user data for blowout closing sale'\n",
            "Sarcasm Type: No\n",
            "\n",
            "Number: 26578\n",
            "Text: 'new employee has never known decadent pleasures of old office'\n",
            "Sarcasm Type: Dead\n",
            "\n",
            "Number: 26583\n",
            "Text: 'reporter for high school newspaper most professional journalist in nation'\n",
            "Sarcasm Type: No\n",
            "\n",
            "Number: 26592\n",
            "Text: 'papal apartments found filled with old newspapers, empty pill bottles, mangy cats'\n",
            "Sarcasm Type: No\n",
            "\n",
            "Number: 26593\n",
            "Text: 'intricacies of meal plan discussed'\n",
            "Sarcasm Type: No\n",
            "\n",
            "Number: 26594\n",
            "Text: 'clinton fumbles with submarine controls; 'everything's in german!' he shouts'\n",
            "Sarcasm Type: Dead\n",
            "\n",
            "Number: 26596\n",
            "Text: 'department of labor response team seals off toxic workplace environment'\n",
            "Sarcasm Type: No\n",
            "\n",
            "Number: 26598\n",
            "Text: 'taylor swift now dating senator joseph mccarthy'\n",
            "Sarcasm Type: No\n",
            "\n",
            "Number: 26600\n",
            "Text: 'bush posts classified ad for 90,000 troops'\n",
            "Sarcasm Type: No\n",
            "\n",
            "Number: 26601\n",
            "Text: 'internet jokester strikes again'\n",
            "Sarcasm Type: Dead\n",
            "\n",
            "Number: 26603\n",
            "Text: 'police satisfied after drunk man assures them there's no problem'\n",
            "Sarcasm Type: No\n",
            "\n",
            "Number: 26606\n",
            "Text: 'tv viewers outraged at timing of commercial break'\n",
            "Sarcasm Type: No\n",
            "\n",
            "Number: 26608\n",
            "Text: 'area man realizes he's not the cool uncle'\n",
            "Sarcasm Type: Self\n",
            "\n",
            "Number: 26610\n",
            "Text: 'cnn graphic designer asked to combine dollar sign, syringe, fighter jets, panda'\n",
            "Sarcasm Type: No\n",
            "\n",
            "Number: 26613\n",
            "Text: 'authorities fear youtube shooter might inspire wave of copycat content creators'\n",
            "Sarcasm Type: No\n",
            "\n",
            "Number: 26616\n",
            "Text: 'stouffer's debuts new frozen meals to bring neighbors after death in family'\n",
            "Sarcasm Type: No\n",
            "\n",
            "Number: 26618\n",
            "Text: 'woman who's been on the pill for years thinking about switching to new set of debilitating side effects'\n",
            "Sarcasm Type: No\n",
            "\n",
            "Number: 26619\n",
            "Text: 'female trump supporters just feel more comfortable with gop candidate who's openly horrible to them'\n",
            "Sarcasm Type: Ob\n",
            "\n",
            "Number: 26620\n",
            "Text: 'zambia tired of being mentioned in 'news of the weird' section'\n",
            "Sarcasm Type: No\n",
            "\n",
            "Number: 26623\n",
            "Text: 'helicopter ride pretty much delivers the goods'\n",
            "Sarcasm Type: No\n",
            "\n",
            "Number: 26626\n",
            "Text: 'breaking: no way egypt coming out of this with a functional democracy'\n",
            "Sarcasm Type: No\n",
            "\n",
            "Number: 26628\n",
            "Text: 'snakes on caduceus clearly in love'\n",
            "Sarcasm Type: No\n",
            "\n",
            "Number: 26629\n",
            "Text: 'petsmart introduces heart-shaped puppy for valentine's day'\n",
            "Sarcasm Type: No\n",
            "\n",
            "Number: 26630\n",
            "Text: 'man only has himself to blame for what's in targeted banner ad'\n",
            "Sarcasm Type: No\n",
            "\n",
            "Number: 26631\n",
            "Text: 'u.s. border collie rounds up 11 million illegal immigrants'\n",
            "Sarcasm Type: No\n",
            "\n",
            "Number: 26634\n",
            "Text: 'field-trip mishap fulfills child's wish to be oscar mayer wiener'\n",
            "Sarcasm Type: No\n",
            "\n",
            "Number: 26635\n",
            "Text: 'paranormal expert bores son with ghost story'\n",
            "Sarcasm Type: No\n",
            "\n",
            "Number: 26638\n",
            "Text: 'report: red meat linked to contentedly patting belly'\n",
            "Sarcasm Type: No\n",
            "\n",
            "Number: 26640\n",
            "Text: 'democrats could lose up to 8,000 seats in upcoming midterm election'\n",
            "Sarcasm Type: No\n",
            "\n",
            "Number: 26642\n",
            "Text: '91-year-old woman an expert at outliving'\n",
            "Sarcasm Type: No\n",
            "\n",
            "Number: 26643\n",
            "Text: 'robert mueller begins thirteenth day undercover as white house janitor'\n",
            "Sarcasm Type: No\n",
            "\n",
            "Number: 26644\n",
            "Text: 'national trust for historic preservation raises millions to demolish trump's boyhood home'\n",
            "Sarcasm Type: No\n",
            "\n",
            "Number: 26646\n",
            "Text: 'eric holder announces least controversial decision of tenure'\n",
            "Sarcasm Type: No\n",
            "\n",
            "Number: 26647\n",
            "Text: 'increasingly horrified man listens to self explain what he does for a living'\n",
            "Sarcasm Type: No\n",
            "\n",
            "Number: 26653\n",
            "Text: 'irish-americans gear up for 'the reinforcin' o' the stereotypes''\n",
            "Sarcasm Type: Ob\n",
            "\n",
            "Number: 26656\n",
            "Text: 'lettuce sentenced to slow, painful death in vegetable crisper drawer'\n",
            "Sarcasm Type: Dead\n",
            "\n",
            "Number: 26657\n",
            "Text: 'panhandler demands explanation for failure to provide quarter'\n",
            "Sarcasm Type: No\n",
            "\n",
            "Number: 26658\n",
            "Text: 'vacation to israel canceled due to history of israel'\n",
            "Sarcasm Type: No\n",
            "\n",
            "Number: 26662\n",
            "Text: 'frantic john kerry looks on as teresa slowly lowered into kim jong-un's electric eel tank'\n",
            "Sarcasm Type: Man\n",
            "\n",
            "Number: 26663\n",
            "Text: 'hot-rod-lincoln-driving son may have contributed to father's alcoholism'\n",
            "Sarcasm Type: No\n",
            "\n",
            "Number: 26666\n",
            "Text: 'man on horse hates city'\n",
            "Sarcasm Type: No\n",
            "\n",
            "Number: 26668\n",
            "Text: 'poll: majority of americans ready to give up on u.s. if someone else goes first'\n",
            "Sarcasm Type: No\n",
            "\n",
            "Number: 26669\n",
            "Text: 'brilliant, innovative ceo just wrote words 'social media' on whiteboard and underlined it'\n",
            "Sarcasm Type: No\n",
            "\n",
            "Number: 26673\n",
            "Text: 'report: some shithead out there makes so much more money than you'\n",
            "Sarcasm Type: Ob\n",
            "\n",
            "Number: 26675\n",
            "Text: 'trump holds strategy meeting with campaign's top militia leaders ahead of election day'\n",
            "Sarcasm Type: No\n",
            "\n",
            "Number: 26677\n",
            "Text: '7-eleven shareholders approve sale of busch light six-pack'\n",
            "Sarcasm Type: No\n",
            "\n",
            "Number: 26678\n",
            "Text: 'man thinks he managed to masturbate without waking roommate'\n",
            "Sarcasm Type: No\n",
            "\n",
            "Number: 26680\n",
            "Text: 'kim jong-un's absence leaves north korean government officials no one to agree with'\n",
            "Sarcasm Type: Dead\n",
            "\n",
            "Number: 26683\n",
            "Text: 'complete idiot forgot to shave area between mouth and nose'\n",
            "Sarcasm Type: Self\n",
            "\n",
            "Number: 26684\n",
            "Text: 'retreating clinton campaign torches iowa town to slow advance of sanders volunteers'\n",
            "Sarcasm Type: No\n",
            "\n",
            "Number: 26685\n",
            "Text: 'don't nobody wanna hear area man run his mouth'\n",
            "Sarcasm Type: No\n",
            "\n",
            "Number: 26686\n",
            "Text: '48 syrian civilians massacred during claire danes' emmy award acceptance speech'\n",
            "Sarcasm Type: No\n",
            "\n",
            "Number: 26688\n",
            "Text: 'report: uttering phrase 'easy does it' prevents 78% of drywall damage while moving furniture'\n",
            "Sarcasm Type: No\n",
            "\n",
            "Number: 26691\n",
            "Text: 'ice cube thrown into sink flies up side like skateboarder shredding half-pipe'\n",
            "Sarcasm Type: No\n",
            "\n",
            "Number: 26693\n",
            "Text: 'new bailiff tired of hearing how old bailiff did things'\n",
            "Sarcasm Type: No\n",
            "\n",
            "Number: 26694\n",
            "Text: 'breaking: 'the onion' in kill range of boston bomber suspect'\n",
            "Sarcasm Type: No\n",
            "\n",
            "Number: 26695\n",
            "Text: 'seaworld crowd applauds for dolphin playfully spraying blood from blowhole'\n",
            "Sarcasm Type: No\n",
            "\n",
            "Number: 26702\n",
            "Text: 'pentagon to withhold budget figures out of respect for american families'\n",
            "Sarcasm Type: No\n",
            "\n",
            "Number: 26703\n",
            "Text: 'pope francis wearing sweater vestments he got for christmas'\n",
            "Sarcasm Type: No\n",
            "\n",
            "                                                headline sarcasm_only\n",
            "2      mom starting to fear son's web series closest ...         None\n",
            "3      boehner just wants wife to listen, not come up...         None\n",
            "8      top snake handler leaves sinking huckabee camp...         None\n",
            "15     nuclear bomb detonates during rehearsal for 's...         None\n",
            "16     cosby lawyer asks why accusers didn't come for...         None\n",
            "...                                                  ...          ...\n",
            "26773  Oh hey, Paul treating people like farm animals...         None\n",
            "26774  Yea, I'm sick of these people complaining abou...         None\n",
            "26775  Everyone at a healthy weight is anorexic, obvi...         None\n",
            "26776  Can't wait for those healthcare premiums to go...         None\n",
            "26777  Road rage incidents would go so much better if...         None\n",
            "\n",
            "[11793 rows x 2 columns]\n"
          ]
        }
      ]
    },
    {
      "cell_type": "code",
      "source": [
        "import pandas as pd\n",
        "\n",
        "# Assuming your data is in a CSV file, you can read it into a DataFrame\n",
        "df = pd.read_csv('Sarcasm__Dataset.csv', encoding='latin-1')\n",
        "\n",
        "# Assuming the column you want to search for 'deadpan' is called 'text_column'\n",
        "text_column = df['ChatGPT_Alltypes']\n",
        "\n",
        "# Count the occurrences of 'deadpan' in the column\n",
        "word_count = text_column.str.lower().str.count(r'\\Deadpan\\b').sum()\n",
        "\n",
        "# Print the result\n",
        "print(\"Frequency of 'deadpan':\", word_count)\n"
      ],
      "metadata": {
        "colab": {
          "base_uri": "https://localhost:8080/"
        },
        "id": "U3VFuwR8Mduc",
        "outputId": "f944b1da-71ab-4c4a-dd34-569cfc346606"
      },
      "execution_count": null,
      "outputs": [
        {
          "output_type": "stream",
          "name": "stdout",
          "text": [
            "Frequency of 'deadpan': 1440.0\n"
          ]
        }
      ]
    },
    {
      "cell_type": "code",
      "source": [
        "import pandas as pd\n",
        "\n",
        "df = pd.read_csv('Sarcasm__Dataset.csv', encoding='latin-1')\n",
        "\n",
        "# Assuming the column you want to count the 1's is called 'column_name'\n",
        "column_name = df['is_sarcastic']\n",
        "\n",
        "# Select the rows from 1 to 802 and count the number of 1's\n",
        "count_ones = column_name.iloc[:26710].eq(1).sum()\n",
        "\n",
        "# Print the result\n",
        "print(\"Number of 1's:\", count_ones)\n"
      ],
      "metadata": {
        "colab": {
          "base_uri": "https://localhost:8080/"
        },
        "id": "ESi1EeQDOGAY",
        "outputId": "26771c11-a1ff-4c21-df80-ba353f59ec70"
      },
      "execution_count": null,
      "outputs": [
        {
          "output_type": "stream",
          "name": "stdout",
          "text": [
            "Number of 1's: 11724\n"
          ]
        }
      ]
    },
    {
      "cell_type": "code",
      "source": [
        "import pandas as pd\n",
        "\n",
        "# Assuming your data is in a CSV file, you can read it into a DataFrame\n",
        "df = pd.read_csv('Sarcasm__Dataset.csv', encoding='latin-1')\n",
        "\n",
        "# Assuming the column you want to search for 'Raging' is called 'text_column'\n",
        "text_column = df['ChatGPT_Alltypes']\n",
        "\n",
        "# Count the occurrences of 'Raging' in the column\n",
        "word_count = text_column.str.lower().str.count(r'\\braging\\b').sum()\n",
        "\n",
        "# Print the result\n",
        "print(\"Frequency of 'Raging':\", word_count)\n"
      ],
      "metadata": {
        "colab": {
          "base_uri": "https://localhost:8080/"
        },
        "id": "89N5u6v_QNxx",
        "outputId": "98617ebb-95aa-44b5-f474-1ea58b7fc43a"
      },
      "execution_count": null,
      "outputs": [
        {
          "output_type": "stream",
          "name": "stdout",
          "text": [
            "Frequency of 'Raging': 14.0\n"
          ]
        }
      ]
    },
    {
      "cell_type": "code",
      "source": [
        "import pandas as pd\n",
        "\n",
        "# Load the dataset\n",
        "df = pd.read_csv('Sarcasm__Dataset.csv', encoding='latin-1')\n",
        "\n",
        "# Count occurrences of \"Self Deprecating\" in the column\n",
        "occurrences = df['ChatGPT_Alltypes'].str.count('Self Deprecating').sum()\n",
        "\n",
        "# Print the result\n",
        "print(\"Self Deprecating:\", occurrences)\n"
      ],
      "metadata": {
        "colab": {
          "base_uri": "https://localhost:8080/"
        },
        "id": "eAsPGHKKQpsT",
        "outputId": "b8c733f7-488c-4bee-848d-cb644d5918a1"
      },
      "execution_count": null,
      "outputs": [
        {
          "output_type": "stream",
          "name": "stdout",
          "text": [
            "Self Deprecating: 183.0\n"
          ]
        }
      ]
    },
    {
      "cell_type": "code",
      "source": [
        "import pandas as pd\n",
        "\n",
        "# Load the dataset\n",
        "df = pd.read_csv('Sarcasm__Dataset.csv', encoding='latin-1')\n",
        "\n",
        "occurrences = df['ChatGPT_Alltypes'].str.count('Obnoxious').sum()\n",
        "\n",
        "# Print the result\n",
        "print(\"Obnoxious:\", occurrences)"
      ],
      "metadata": {
        "id": "ewcJvvcLRkvB",
        "colab": {
          "base_uri": "https://localhost:8080/"
        },
        "outputId": "96ade5df-b7db-432a-86a5-ccbd2c31a6c3"
      },
      "execution_count": null,
      "outputs": [
        {
          "output_type": "stream",
          "name": "stdout",
          "text": [
            "Obnoxious: 530.0\n"
          ]
        }
      ]
    },
    {
      "cell_type": "code",
      "source": [
        "import pandas as pd\n",
        "\n",
        "# Load the dataset\n",
        "df = pd.read_csv('Sarcasm__Dataset.csv', encoding='latin-1')\n",
        "\n",
        "occurrences = df['ChatGPT_Alltypes'].str.count('Polite').sum()\n",
        "\n",
        "# Print the result\n",
        "print(\"Polite:\", occurrences)"
      ],
      "metadata": {
        "id": "su_xIhJQfwXH",
        "colab": {
          "base_uri": "https://localhost:8080/"
        },
        "outputId": "230b7ea6-f651-4e83-a02c-3520e3529d4d"
      },
      "execution_count": null,
      "outputs": [
        {
          "output_type": "stream",
          "name": "stdout",
          "text": [
            "Polite: 36.0\n"
          ]
        }
      ]
    },
    {
      "cell_type": "code",
      "source": [
        "import pandas as pd\n",
        "\n",
        "# Load the dataset\n",
        "df = pd.read_csv('Sarcasm__Dataset.csv', encoding='latin-1')\n",
        "\n",
        "occurrences = df['ChatGPT_Alltypes'].str.count('Maniac').sum()\n",
        "\n",
        "# Print the result\n",
        "print(\"Maniac:\", occurrences)"
      ],
      "metadata": {
        "colab": {
          "base_uri": "https://localhost:8080/"
        },
        "id": "5Hdb0mERA5ac",
        "outputId": "dcf84d3b-15b9-4cb6-ac92-32737c88ee1a"
      },
      "execution_count": null,
      "outputs": [
        {
          "output_type": "stream",
          "name": "stdout",
          "text": [
            "Maniac: 55.0\n"
          ]
        }
      ]
    },
    {
      "cell_type": "code",
      "source": [
        "import pandas as pd\n",
        "\n",
        "# Load the dataset\n",
        "df = pd.read_csv('Sarcasm__Dataset.csv', encoding='latin-1')\n",
        "\n",
        "# Count occurrences of \"Brooding\" in the column\n",
        "occurrences = df['ChatGPT_Alltypes'].str.count('Brooding').sum()\n",
        "\n",
        "# Print the result\n",
        "print(\"Brooding:\", occurrences)"
      ],
      "metadata": {
        "id": "ZSUo6xygBFfp",
        "colab": {
          "base_uri": "https://localhost:8080/"
        },
        "outputId": "755718fe-56f0-4f3e-bf0d-f2904c14aca7"
      },
      "execution_count": null,
      "outputs": [
        {
          "output_type": "stream",
          "name": "stdout",
          "text": [
            "Brooding: 3.0\n"
          ]
        }
      ]
    },
    {
      "cell_type": "code",
      "source": [],
      "metadata": {
        "id": "JeZ5L_scLG3E"
      },
      "execution_count": null,
      "outputs": []
    }
  ]
}
